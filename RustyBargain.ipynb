{
 "cells": [
  {
   "cell_type": "markdown",
   "metadata": {},
   "source": [
    "Rusty Bargain adalah perusahaan jual beli mobil bekas yang sedang mengembangkan sebuah aplikasi untuk menarik pembeli baru. Dalam aplikasi tersebut, kamu bisa dengan cepat mengetahui nilai pasar mobilmu. Kamu memiliki akses ke data historis, spesifikasi teknis kendaraan, versi model kendaraan, dan harga kendaraan. Tugasmu adalah membuat suatu model yang mampu menentukan nilai pasar mobil.\n",
    "Rusty Bargain tertarik pada:\n",
    "\n",
    "- kualitas prediksi;\n",
    "- kecepatan model dalam memprediksi;\n",
    "- waktu yang diperlukan untuk melatih model"
   ]
  },
  {
   "cell_type": "code",
   "execution_count": 1,
   "metadata": {},
   "outputs": [],
   "source": [
    "# Import library awal\n",
    "import pandas as pd\n",
    "import numpy as np\n",
    "\n",
    "import matplotlib.pyplot as plt\n",
    "import seaborn as sns"
   ]
  },
  {
   "cell_type": "markdown",
   "metadata": {},
   "source": [
    "## Persiapan Data"
   ]
  },
  {
   "cell_type": "code",
   "execution_count": 2,
   "metadata": {},
   "outputs": [
    {
     "data": {
      "text/html": [
       "<div>\n",
       "<style scoped>\n",
       "    .dataframe tbody tr th:only-of-type {\n",
       "        vertical-align: middle;\n",
       "    }\n",
       "\n",
       "    .dataframe tbody tr th {\n",
       "        vertical-align: top;\n",
       "    }\n",
       "\n",
       "    .dataframe thead th {\n",
       "        text-align: right;\n",
       "    }\n",
       "</style>\n",
       "<table border=\"1\" class=\"dataframe\">\n",
       "  <thead>\n",
       "    <tr style=\"text-align: right;\">\n",
       "      <th></th>\n",
       "      <th>DateCrawled</th>\n",
       "      <th>Price</th>\n",
       "      <th>VehicleType</th>\n",
       "      <th>RegistrationYear</th>\n",
       "      <th>Gearbox</th>\n",
       "      <th>Power</th>\n",
       "      <th>Model</th>\n",
       "      <th>Mileage</th>\n",
       "      <th>RegistrationMonth</th>\n",
       "      <th>FuelType</th>\n",
       "      <th>Brand</th>\n",
       "      <th>NotRepaired</th>\n",
       "      <th>DateCreated</th>\n",
       "      <th>NumberOfPictures</th>\n",
       "      <th>PostalCode</th>\n",
       "      <th>LastSeen</th>\n",
       "    </tr>\n",
       "  </thead>\n",
       "  <tbody>\n",
       "    <tr>\n",
       "      <th>0</th>\n",
       "      <td>24/03/2016 11:52</td>\n",
       "      <td>480</td>\n",
       "      <td>NaN</td>\n",
       "      <td>1993</td>\n",
       "      <td>manual</td>\n",
       "      <td>0</td>\n",
       "      <td>golf</td>\n",
       "      <td>150000</td>\n",
       "      <td>0</td>\n",
       "      <td>petrol</td>\n",
       "      <td>volkswagen</td>\n",
       "      <td>NaN</td>\n",
       "      <td>24/03/2016 00:00</td>\n",
       "      <td>0</td>\n",
       "      <td>70435</td>\n",
       "      <td>07/04/2016 03:16</td>\n",
       "    </tr>\n",
       "    <tr>\n",
       "      <th>1</th>\n",
       "      <td>24/03/2016 10:58</td>\n",
       "      <td>18300</td>\n",
       "      <td>coupe</td>\n",
       "      <td>2011</td>\n",
       "      <td>manual</td>\n",
       "      <td>190</td>\n",
       "      <td>NaN</td>\n",
       "      <td>125000</td>\n",
       "      <td>5</td>\n",
       "      <td>gasoline</td>\n",
       "      <td>audi</td>\n",
       "      <td>yes</td>\n",
       "      <td>24/03/2016 00:00</td>\n",
       "      <td>0</td>\n",
       "      <td>66954</td>\n",
       "      <td>07/04/2016 01:46</td>\n",
       "    </tr>\n",
       "    <tr>\n",
       "      <th>2</th>\n",
       "      <td>14/03/2016 12:52</td>\n",
       "      <td>9800</td>\n",
       "      <td>suv</td>\n",
       "      <td>2004</td>\n",
       "      <td>auto</td>\n",
       "      <td>163</td>\n",
       "      <td>grand</td>\n",
       "      <td>125000</td>\n",
       "      <td>8</td>\n",
       "      <td>gasoline</td>\n",
       "      <td>jeep</td>\n",
       "      <td>NaN</td>\n",
       "      <td>14/03/2016 00:00</td>\n",
       "      <td>0</td>\n",
       "      <td>90480</td>\n",
       "      <td>05/04/2016 12:47</td>\n",
       "    </tr>\n",
       "    <tr>\n",
       "      <th>3</th>\n",
       "      <td>17/03/2016 16:54</td>\n",
       "      <td>1500</td>\n",
       "      <td>small</td>\n",
       "      <td>2001</td>\n",
       "      <td>manual</td>\n",
       "      <td>75</td>\n",
       "      <td>golf</td>\n",
       "      <td>150000</td>\n",
       "      <td>6</td>\n",
       "      <td>petrol</td>\n",
       "      <td>volkswagen</td>\n",
       "      <td>no</td>\n",
       "      <td>17/03/2016 00:00</td>\n",
       "      <td>0</td>\n",
       "      <td>91074</td>\n",
       "      <td>17/03/2016 17:40</td>\n",
       "    </tr>\n",
       "    <tr>\n",
       "      <th>4</th>\n",
       "      <td>31/03/2016 17:25</td>\n",
       "      <td>3600</td>\n",
       "      <td>small</td>\n",
       "      <td>2008</td>\n",
       "      <td>manual</td>\n",
       "      <td>69</td>\n",
       "      <td>fabia</td>\n",
       "      <td>90000</td>\n",
       "      <td>7</td>\n",
       "      <td>gasoline</td>\n",
       "      <td>skoda</td>\n",
       "      <td>no</td>\n",
       "      <td>31/03/2016 00:00</td>\n",
       "      <td>0</td>\n",
       "      <td>60437</td>\n",
       "      <td>06/04/2016 10:17</td>\n",
       "    </tr>\n",
       "  </tbody>\n",
       "</table>\n",
       "</div>"
      ],
      "text/plain": [
       "        DateCrawled  Price VehicleType  RegistrationYear Gearbox  Power  \\\n",
       "0  24/03/2016 11:52    480         NaN              1993  manual      0   \n",
       "1  24/03/2016 10:58  18300       coupe              2011  manual    190   \n",
       "2  14/03/2016 12:52   9800         suv              2004    auto    163   \n",
       "3  17/03/2016 16:54   1500       small              2001  manual     75   \n",
       "4  31/03/2016 17:25   3600       small              2008  manual     69   \n",
       "\n",
       "   Model  Mileage  RegistrationMonth  FuelType       Brand NotRepaired  \\\n",
       "0   golf   150000                  0    petrol  volkswagen         NaN   \n",
       "1    NaN   125000                  5  gasoline        audi         yes   \n",
       "2  grand   125000                  8  gasoline        jeep         NaN   \n",
       "3   golf   150000                  6    petrol  volkswagen          no   \n",
       "4  fabia    90000                  7  gasoline       skoda          no   \n",
       "\n",
       "        DateCreated  NumberOfPictures  PostalCode          LastSeen  \n",
       "0  24/03/2016 00:00                 0       70435  07/04/2016 03:16  \n",
       "1  24/03/2016 00:00                 0       66954  07/04/2016 01:46  \n",
       "2  14/03/2016 00:00                 0       90480  05/04/2016 12:47  \n",
       "3  17/03/2016 00:00                 0       91074  17/03/2016 17:40  \n",
       "4  31/03/2016 00:00                 0       60437  06/04/2016 10:17  "
      ]
     },
     "execution_count": 2,
     "metadata": {},
     "output_type": "execute_result"
    }
   ],
   "source": [
    "data = pd.read_csv('/datasets/car_data.csv')\n",
    "data.head()"
   ]
  },
  {
   "cell_type": "code",
   "execution_count": 3,
   "metadata": {},
   "outputs": [
    {
     "name": "stdout",
     "output_type": "stream",
     "text": [
      "<class 'pandas.core.frame.DataFrame'>\n",
      "RangeIndex: 354369 entries, 0 to 354368\n",
      "Data columns (total 16 columns):\n",
      " #   Column             Non-Null Count   Dtype \n",
      "---  ------             --------------   ----- \n",
      " 0   DateCrawled        354369 non-null  object\n",
      " 1   Price              354369 non-null  int64 \n",
      " 2   VehicleType        316879 non-null  object\n",
      " 3   RegistrationYear   354369 non-null  int64 \n",
      " 4   Gearbox            334536 non-null  object\n",
      " 5   Power              354369 non-null  int64 \n",
      " 6   Model              334664 non-null  object\n",
      " 7   Mileage            354369 non-null  int64 \n",
      " 8   RegistrationMonth  354369 non-null  int64 \n",
      " 9   FuelType           321474 non-null  object\n",
      " 10  Brand              354369 non-null  object\n",
      " 11  NotRepaired        283215 non-null  object\n",
      " 12  DateCreated        354369 non-null  object\n",
      " 13  NumberOfPictures   354369 non-null  int64 \n",
      " 14  PostalCode         354369 non-null  int64 \n",
      " 15  LastSeen           354369 non-null  object\n",
      "dtypes: int64(7), object(9)\n",
      "memory usage: 43.3+ MB\n"
     ]
    }
   ],
   "source": [
    "data.info()"
   ]
  },
  {
   "cell_type": "code",
   "execution_count": 4,
   "metadata": {},
   "outputs": [
    {
     "name": "stdout",
     "output_type": "stream",
     "text": [
      "jumlah missing value:\n",
      "DateCrawled              0\n",
      "Price                    0\n",
      "VehicleType          37490\n",
      "RegistrationYear         0\n",
      "Gearbox              19833\n",
      "Power                    0\n",
      "Model                19705\n",
      "Mileage                  0\n",
      "RegistrationMonth        0\n",
      "FuelType             32895\n",
      "Brand                    0\n",
      "NotRepaired          71154\n",
      "DateCreated              0\n",
      "NumberOfPictures         0\n",
      "PostalCode               0\n",
      "LastSeen                 0\n",
      "dtype: int64\n",
      "\n",
      "persentase missing value:\n",
      "VehicleType    10.579368\n",
      "Gearbox         5.596709\n",
      "Model           5.560588\n",
      "FuelType        9.282697\n",
      "NotRepaired    20.079070\n",
      "dtype: float64\n"
     ]
    }
   ],
   "source": [
    "print(f'jumlah missing value:\\n{data.isna().sum()}')\n",
    "print()\n",
    "print('persentase missing value:')\n",
    "print(data[['VehicleType', 'Gearbox', 'Model', 'FuelType', 'NotRepaired']].isna().sum() / len(data)* 100)"
   ]
  },
  {
   "cell_type": "markdown",
   "metadata": {},
   "source": [
    "**Catatan** \n",
    "\n",
    "Mising value terdapat di 5 kolom yang berbeda. Kolom tersebut berisi nilai kategorikal."
   ]
  },
  {
   "cell_type": "markdown",
   "metadata": {},
   "source": [
    "**Ekploarsi kolom numerikal**"
   ]
  },
  {
   "cell_type": "code",
   "execution_count": 5,
   "metadata": {},
   "outputs": [
    {
     "data": {
      "text/plain": [
       "(354369, 16)"
      ]
     },
     "execution_count": 5,
     "metadata": {},
     "output_type": "execute_result"
    }
   ],
   "source": [
    "data.shape"
   ]
  },
  {
   "cell_type": "code",
   "execution_count": 6,
   "metadata": {},
   "outputs": [
    {
     "data": {
      "text/plain": [
       "count    354369.000000\n",
       "mean       4416.656776\n",
       "std        4514.158514\n",
       "min           0.000000\n",
       "25%        1050.000000\n",
       "50%        2700.000000\n",
       "75%        6400.000000\n",
       "max       20000.000000\n",
       "Name: Price, dtype: float64"
      ]
     },
     "execution_count": 6,
     "metadata": {},
     "output_type": "execute_result"
    }
   ],
   "source": [
    "data['Price'].describe()"
   ]
  },
  {
   "cell_type": "code",
   "execution_count": 7,
   "metadata": {
    "scrolled": true
   },
   "outputs": [
    {
     "data": {
      "image/png": "[encoded data removed]",
      "text/plain": [
       "<Figure size 432x288 with 1 Axes>"
      ]
     },
     "metadata": {
      "needs_background": "light"
     },
     "output_type": "display_data"
    }
   ],
   "source": [
    "sns.boxplot(x=data['Price']);"
   ]
  },
  {
   "cell_type": "code",
   "execution_count": 8,
   "metadata": {},
   "outputs": [
    {
     "data": {
      "text/plain": [
       "count    354369.000000\n",
       "mean        110.094337\n",
       "std         189.850405\n",
       "min           0.000000\n",
       "25%          69.000000\n",
       "50%         105.000000\n",
       "75%         143.000000\n",
       "max       20000.000000\n",
       "Name: Power, dtype: float64"
      ]
     },
     "execution_count": 8,
     "metadata": {},
     "output_type": "execute_result"
    }
   ],
   "source": [
    "data['Power'].describe()"
   ]
  },
  {
   "cell_type": "code",
   "execution_count": 9,
   "metadata": {
    "scrolled": true
   },
   "outputs": [
    {
     "data": {
      "image/png": "[encoded data removed]",
      "text/plain": [
       "<Figure size 432x288 with 1 Axes>"
      ]
     },
     "metadata": {
      "needs_background": "light"
     },
     "output_type": "display_data"
    }
   ],
   "source": [
    "sns.boxplot(x=data['Power']);"
   ]
  },
  {
   "cell_type": "code",
   "execution_count": 10,
   "metadata": {},
   "outputs": [
    {
     "data": {
      "text/plain": [
       "count    354369.000000\n",
       "mean     128211.172535\n",
       "std       37905.341530\n",
       "min        5000.000000\n",
       "25%      125000.000000\n",
       "50%      150000.000000\n",
       "75%      150000.000000\n",
       "max      150000.000000\n",
       "Name: Mileage, dtype: float64"
      ]
     },
     "execution_count": 10,
     "metadata": {},
     "output_type": "execute_result"
    }
   ],
   "source": [
    "data['Mileage'].describe()"
   ]
  },
  {
   "cell_type": "code",
   "execution_count": 11,
   "metadata": {
    "scrolled": true
   },
   "outputs": [
    {
     "data": {
      "image/png": "[encoded data removed]",
      "text/plain": [
       "<Figure size 432x288 with 1 Axes>"
      ]
     },
     "metadata": {
      "needs_background": "light"
     },
     "output_type": "display_data"
    }
   ],
   "source": [
    "sns.boxplot(x=data['Mileage']);"
   ]
  },
  {
   "cell_type": "code",
   "execution_count": 12,
   "metadata": {},
   "outputs": [
    {
     "data": {
      "text/plain": [
       "count    354369.000000\n",
       "mean       2004.234448\n",
       "std          90.227958\n",
       "min        1000.000000\n",
       "25%        1999.000000\n",
       "50%        2003.000000\n",
       "75%        2008.000000\n",
       "max        9999.000000\n",
       "Name: RegistrationYear, dtype: float64"
      ]
     },
     "execution_count": 12,
     "metadata": {},
     "output_type": "execute_result"
    }
   ],
   "source": [
    "data['RegistrationYear'].describe()"
   ]
  },
  {
   "cell_type": "code",
   "execution_count": 13,
   "metadata": {
    "scrolled": true
   },
   "outputs": [
    {
     "data": {
      "image/png": "[encoded data removed]",
      "text/plain": [
       "<Figure size 432x288 with 1 Axes>"
      ]
     },
     "metadata": {
      "needs_background": "light"
     },
     "output_type": "display_data"
    }
   ],
   "source": [
    "sns.boxplot(x=data['RegistrationYear']);"
   ]
  },
  {
   "cell_type": "code",
   "execution_count": 14,
   "metadata": {},
   "outputs": [
    {
     "data": {
      "text/plain": [
       "count    354369.000000\n",
       "mean          5.714645\n",
       "std           3.726421\n",
       "min           0.000000\n",
       "25%           3.000000\n",
       "50%           6.000000\n",
       "75%           9.000000\n",
       "max          12.000000\n",
       "Name: RegistrationMonth, dtype: float64"
      ]
     },
     "execution_count": 14,
     "metadata": {},
     "output_type": "execute_result"
    }
   ],
   "source": [
    "data['RegistrationMonth'].describe()"
   ]
  },
  {
   "cell_type": "code",
   "execution_count": 15,
   "metadata": {
    "scrolled": true
   },
   "outputs": [
    {
     "data": {
      "image/png": "[encoded data removed]",
      "text/plain": [
       "<Figure size 432x288 with 1 Axes>"
      ]
     },
     "metadata": {
      "needs_background": "light"
     },
     "output_type": "display_data"
    }
   ],
   "source": [
    "sns.boxplot(x=data['RegistrationMonth']);"
   ]
  },
  {
   "cell_type": "code",
   "execution_count": 16,
   "metadata": {},
   "outputs": [
    {
     "data": {
      "text/plain": [
       "count    354369.0\n",
       "mean          0.0\n",
       "std           0.0\n",
       "min           0.0\n",
       "25%           0.0\n",
       "50%           0.0\n",
       "75%           0.0\n",
       "max           0.0\n",
       "Name: NumberOfPictures, dtype: float64"
      ]
     },
     "execution_count": 16,
     "metadata": {},
     "output_type": "execute_result"
    }
   ],
   "source": [
    "data['NumberOfPictures'].describe()"
   ]
  },
  {
   "cell_type": "code",
   "execution_count": 17,
   "metadata": {},
   "outputs": [
    {
     "data": {
      "text/plain": [
       "count    354369.000000\n",
       "mean      50508.689087\n",
       "std       25783.096248\n",
       "min        1067.000000\n",
       "25%       30165.000000\n",
       "50%       49413.000000\n",
       "75%       71083.000000\n",
       "max       99998.000000\n",
       "Name: PostalCode, dtype: float64"
      ]
     },
     "execution_count": 17,
     "metadata": {},
     "output_type": "execute_result"
    }
   ],
   "source": [
    "data['PostalCode'].describe()"
   ]
  },
  {
   "cell_type": "code",
   "execution_count": 18,
   "metadata": {},
   "outputs": [
    {
     "data": {
      "image/png": "[encoded data removed]",
      "text/plain": [
       "<Figure size 432x288 with 1 Axes>"
      ]
     },
     "metadata": {
      "needs_background": "light"
     },
     "output_type": "display_data"
    }
   ],
   "source": [
    "sns.boxplot(x=data['PostalCode']);"
   ]
  },
  {
   "cell_type": "markdown",
   "metadata": {},
   "source": [
    "**Catatan**\n",
    "\n",
    "Pada kolom numerikal terdapat beberapa catatan, diantaranya:\n",
    "1. Beberapa kolom memiliki outlier.\n",
    "2. Pada kolom `NumberOfPictures` hanya berisi angka 0 saja.\n",
    "3. Pada kolom `Power` nilai 0 mendominasi.\n",
    "4. Pada kolom `RegistrationYear` terlalu banyak nilai yang tidak masuk akal.\n",
    "5. Pada kolom `PostalCode` nilai nya beragam dan sepertinya data ini tidak diperlukan."
   ]
  },
  {
   "cell_type": "markdown",
   "metadata": {},
   "source": [
    "### Drop data yang tidak diperlukan"
   ]
  },
  {
   "cell_type": "markdown",
   "metadata": {},
   "source": [
    "Dari langkah-langkah yang telah dilakukan, ada beberapa catatan untuk mempersiapkan data agar data dapat diuji dengan baik. Sebelum itu, mari rapihkan data yang ada sesuai dengan catatan yang telah dibuat diatas."
   ]
  },
  {
   "cell_type": "code",
   "execution_count": 19,
   "metadata": {},
   "outputs": [
    {
     "data": {
      "text/html": [
       "<div>\n",
       "<style scoped>\n",
       "    .dataframe tbody tr th:only-of-type {\n",
       "        vertical-align: middle;\n",
       "    }\n",
       "\n",
       "    .dataframe tbody tr th {\n",
       "        vertical-align: top;\n",
       "    }\n",
       "\n",
       "    .dataframe thead th {\n",
       "        text-align: right;\n",
       "    }\n",
       "</style>\n",
       "<table border=\"1\" class=\"dataframe\">\n",
       "  <thead>\n",
       "    <tr style=\"text-align: right;\">\n",
       "      <th></th>\n",
       "      <th>DateCrawled</th>\n",
       "      <th>Price</th>\n",
       "      <th>VehicleType</th>\n",
       "      <th>RegistrationYear</th>\n",
       "      <th>Gearbox</th>\n",
       "      <th>Power</th>\n",
       "      <th>Model</th>\n",
       "      <th>Mileage</th>\n",
       "      <th>RegistrationMonth</th>\n",
       "      <th>FuelType</th>\n",
       "      <th>Brand</th>\n",
       "      <th>NotRepaired</th>\n",
       "      <th>DateCreated</th>\n",
       "      <th>NumberOfPictures</th>\n",
       "      <th>PostalCode</th>\n",
       "      <th>LastSeen</th>\n",
       "    </tr>\n",
       "  </thead>\n",
       "  <tbody>\n",
       "    <tr>\n",
       "      <th>0</th>\n",
       "      <td>24/03/2016 11:52</td>\n",
       "      <td>480</td>\n",
       "      <td>NaN</td>\n",
       "      <td>1993</td>\n",
       "      <td>manual</td>\n",
       "      <td>0</td>\n",
       "      <td>golf</td>\n",
       "      <td>150000</td>\n",
       "      <td>0</td>\n",
       "      <td>petrol</td>\n",
       "      <td>volkswagen</td>\n",
       "      <td>NaN</td>\n",
       "      <td>24/03/2016 00:00</td>\n",
       "      <td>0</td>\n",
       "      <td>70435</td>\n",
       "      <td>07/04/2016 03:16</td>\n",
       "    </tr>\n",
       "    <tr>\n",
       "      <th>1</th>\n",
       "      <td>24/03/2016 10:58</td>\n",
       "      <td>18300</td>\n",
       "      <td>coupe</td>\n",
       "      <td>2011</td>\n",
       "      <td>manual</td>\n",
       "      <td>190</td>\n",
       "      <td>NaN</td>\n",
       "      <td>125000</td>\n",
       "      <td>5</td>\n",
       "      <td>gasoline</td>\n",
       "      <td>audi</td>\n",
       "      <td>yes</td>\n",
       "      <td>24/03/2016 00:00</td>\n",
       "      <td>0</td>\n",
       "      <td>66954</td>\n",
       "      <td>07/04/2016 01:46</td>\n",
       "    </tr>\n",
       "  </tbody>\n",
       "</table>\n",
       "</div>"
      ],
      "text/plain": [
       "        DateCrawled  Price VehicleType  RegistrationYear Gearbox  Power Model  \\\n",
       "0  24/03/2016 11:52    480         NaN              1993  manual      0  golf   \n",
       "1  24/03/2016 10:58  18300       coupe              2011  manual    190   NaN   \n",
       "\n",
       "   Mileage  RegistrationMonth  FuelType       Brand NotRepaired  \\\n",
       "0   150000                  0    petrol  volkswagen         NaN   \n",
       "1   125000                  5  gasoline        audi         yes   \n",
       "\n",
       "        DateCreated  NumberOfPictures  PostalCode          LastSeen  \n",
       "0  24/03/2016 00:00                 0       70435  07/04/2016 03:16  \n",
       "1  24/03/2016 00:00                 0       66954  07/04/2016 01:46  "
      ]
     },
     "execution_count": 19,
     "metadata": {},
     "output_type": "execute_result"
    }
   ],
   "source": [
    "data.head(2)"
   ]
  },
  {
   "cell_type": "code",
   "execution_count": 20,
   "metadata": {},
   "outputs": [],
   "source": [
    "column_notused = ['DateCrawled', 'DateCreated', 'NumberOfPictures', 'PostalCode', 'LastSeen']\n"
   ]
  },
  {
   "cell_type": "code",
   "execution_count": 21,
   "metadata": {
    "scrolled": true
   },
   "outputs": [
    {
     "data": {
      "text/html": [
       "<div>\n",
       "<style scoped>\n",
       "    .dataframe tbody tr th:only-of-type {\n",
       "        vertical-align: middle;\n",
       "    }\n",
       "\n",
       "    .dataframe tbody tr th {\n",
       "        vertical-align: top;\n",
       "    }\n",
       "\n",
       "    .dataframe thead th {\n",
       "        text-align: right;\n",
       "    }\n",
       "</style>\n",
       "<table border=\"1\" class=\"dataframe\">\n",
       "  <thead>\n",
       "    <tr style=\"text-align: right;\">\n",
       "      <th></th>\n",
       "      <th>Price</th>\n",
       "      <th>VehicleType</th>\n",
       "      <th>RegistrationYear</th>\n",
       "      <th>Gearbox</th>\n",
       "      <th>Power</th>\n",
       "      <th>Model</th>\n",
       "      <th>Mileage</th>\n",
       "      <th>RegistrationMonth</th>\n",
       "      <th>FuelType</th>\n",
       "      <th>Brand</th>\n",
       "      <th>NotRepaired</th>\n",
       "    </tr>\n",
       "  </thead>\n",
       "  <tbody>\n",
       "    <tr>\n",
       "      <th>0</th>\n",
       "      <td>480</td>\n",
       "      <td>NaN</td>\n",
       "      <td>1993</td>\n",
       "      <td>manual</td>\n",
       "      <td>0</td>\n",
       "      <td>golf</td>\n",
       "      <td>150000</td>\n",
       "      <td>0</td>\n",
       "      <td>petrol</td>\n",
       "      <td>volkswagen</td>\n",
       "      <td>NaN</td>\n",
       "    </tr>\n",
       "    <tr>\n",
       "      <th>1</th>\n",
       "      <td>18300</td>\n",
       "      <td>coupe</td>\n",
       "      <td>2011</td>\n",
       "      <td>manual</td>\n",
       "      <td>190</td>\n",
       "      <td>NaN</td>\n",
       "      <td>125000</td>\n",
       "      <td>5</td>\n",
       "      <td>gasoline</td>\n",
       "      <td>audi</td>\n",
       "      <td>yes</td>\n",
       "    </tr>\n",
       "    <tr>\n",
       "      <th>2</th>\n",
       "      <td>9800</td>\n",
       "      <td>suv</td>\n",
       "      <td>2004</td>\n",
       "      <td>auto</td>\n",
       "      <td>163</td>\n",
       "      <td>grand</td>\n",
       "      <td>125000</td>\n",
       "      <td>8</td>\n",
       "      <td>gasoline</td>\n",
       "      <td>jeep</td>\n",
       "      <td>NaN</td>\n",
       "    </tr>\n",
       "    <tr>\n",
       "      <th>3</th>\n",
       "      <td>1500</td>\n",
       "      <td>small</td>\n",
       "      <td>2001</td>\n",
       "      <td>manual</td>\n",
       "      <td>75</td>\n",
       "      <td>golf</td>\n",
       "      <td>150000</td>\n",
       "      <td>6</td>\n",
       "      <td>petrol</td>\n",
       "      <td>volkswagen</td>\n",
       "      <td>no</td>\n",
       "    </tr>\n",
       "    <tr>\n",
       "      <th>4</th>\n",
       "      <td>3600</td>\n",
       "      <td>small</td>\n",
       "      <td>2008</td>\n",
       "      <td>manual</td>\n",
       "      <td>69</td>\n",
       "      <td>fabia</td>\n",
       "      <td>90000</td>\n",
       "      <td>7</td>\n",
       "      <td>gasoline</td>\n",
       "      <td>skoda</td>\n",
       "      <td>no</td>\n",
       "    </tr>\n",
       "  </tbody>\n",
       "</table>\n",
       "</div>"
      ],
      "text/plain": [
       "   Price VehicleType  RegistrationYear Gearbox  Power  Model  Mileage  \\\n",
       "0    480         NaN              1993  manual      0   golf   150000   \n",
       "1  18300       coupe              2011  manual    190    NaN   125000   \n",
       "2   9800         suv              2004    auto    163  grand   125000   \n",
       "3   1500       small              2001  manual     75   golf   150000   \n",
       "4   3600       small              2008  manual     69  fabia    90000   \n",
       "\n",
       "   RegistrationMonth  FuelType       Brand NotRepaired  \n",
       "0                  0    petrol  volkswagen         NaN  \n",
       "1                  5  gasoline        audi         yes  \n",
       "2                  8  gasoline        jeep         NaN  \n",
       "3                  6    petrol  volkswagen          no  \n",
       "4                  7  gasoline       skoda          no  "
      ]
     },
     "execution_count": 21,
     "metadata": {},
     "output_type": "execute_result"
    }
   ],
   "source": [
    "data = data.drop(column_notused, axis=1)\n",
    "data.head()"
   ]
  },
  {
   "cell_type": "code",
   "execution_count": 22,
   "metadata": {},
   "outputs": [
    {
     "data": {
      "text/html": [
       "<div>\n",
       "<style scoped>\n",
       "    .dataframe tbody tr th:only-of-type {\n",
       "        vertical-align: middle;\n",
       "    }\n",
       "\n",
       "    .dataframe tbody tr th {\n",
       "        vertical-align: top;\n",
       "    }\n",
       "\n",
       "    .dataframe thead th {\n",
       "        text-align: right;\n",
       "    }\n",
       "</style>\n",
       "<table border=\"1\" class=\"dataframe\">\n",
       "  <thead>\n",
       "    <tr style=\"text-align: right;\">\n",
       "      <th></th>\n",
       "      <th>Price</th>\n",
       "      <th>RegistrationYear</th>\n",
       "      <th>Power</th>\n",
       "      <th>Mileage</th>\n",
       "      <th>RegistrationMonth</th>\n",
       "    </tr>\n",
       "  </thead>\n",
       "  <tbody>\n",
       "    <tr>\n",
       "      <th>count</th>\n",
       "      <td>206829.000000</td>\n",
       "      <td>206829.000000</td>\n",
       "      <td>206829.000000</td>\n",
       "      <td>206829.000000</td>\n",
       "      <td>206829.000000</td>\n",
       "    </tr>\n",
       "    <tr>\n",
       "      <th>mean</th>\n",
       "      <td>6158.470108</td>\n",
       "      <td>2006.938829</td>\n",
       "      <td>130.434746</td>\n",
       "      <td>123260.906353</td>\n",
       "      <td>6.080458</td>\n",
       "    </tr>\n",
       "    <tr>\n",
       "      <th>std</th>\n",
       "      <td>4763.427182</td>\n",
       "      <td>4.484838</td>\n",
       "      <td>191.845816</td>\n",
       "      <td>39191.578278</td>\n",
       "      <td>3.545320</td>\n",
       "    </tr>\n",
       "    <tr>\n",
       "      <th>min</th>\n",
       "      <td>0.000000</td>\n",
       "      <td>2001.000000</td>\n",
       "      <td>1.000000</td>\n",
       "      <td>5000.000000</td>\n",
       "      <td>0.000000</td>\n",
       "    </tr>\n",
       "    <tr>\n",
       "      <th>25%</th>\n",
       "      <td>2490.000000</td>\n",
       "      <td>2003.000000</td>\n",
       "      <td>86.000000</td>\n",
       "      <td>100000.000000</td>\n",
       "      <td>3.000000</td>\n",
       "    </tr>\n",
       "    <tr>\n",
       "      <th>50%</th>\n",
       "      <td>4850.000000</td>\n",
       "      <td>2006.000000</td>\n",
       "      <td>116.000000</td>\n",
       "      <td>150000.000000</td>\n",
       "      <td>6.000000</td>\n",
       "    </tr>\n",
       "    <tr>\n",
       "      <th>75%</th>\n",
       "      <td>8800.000000</td>\n",
       "      <td>2010.000000</td>\n",
       "      <td>150.000000</td>\n",
       "      <td>150000.000000</td>\n",
       "      <td>9.000000</td>\n",
       "    </tr>\n",
       "    <tr>\n",
       "      <th>max</th>\n",
       "      <td>20000.000000</td>\n",
       "      <td>2019.000000</td>\n",
       "      <td>19211.000000</td>\n",
       "      <td>150000.000000</td>\n",
       "      <td>12.000000</td>\n",
       "    </tr>\n",
       "  </tbody>\n",
       "</table>\n",
       "</div>"
      ],
      "text/plain": [
       "               Price  RegistrationYear          Power        Mileage  \\\n",
       "count  206829.000000     206829.000000  206829.000000  206829.000000   \n",
       "mean     6158.470108       2006.938829     130.434746  123260.906353   \n",
       "std      4763.427182          4.484838     191.845816   39191.578278   \n",
       "min         0.000000       2001.000000       1.000000    5000.000000   \n",
       "25%      2490.000000       2003.000000      86.000000  100000.000000   \n",
       "50%      4850.000000       2006.000000     116.000000  150000.000000   \n",
       "75%      8800.000000       2010.000000     150.000000  150000.000000   \n",
       "max     20000.000000       2019.000000   19211.000000  150000.000000   \n",
       "\n",
       "       RegistrationMonth  \n",
       "count      206829.000000  \n",
       "mean            6.080458  \n",
       "std             3.545320  \n",
       "min             0.000000  \n",
       "25%             3.000000  \n",
       "50%             6.000000  \n",
       "75%             9.000000  \n",
       "max            12.000000  "
      ]
     },
     "execution_count": 22,
     "metadata": {},
     "output_type": "execute_result"
    }
   ],
   "source": [
    "data = data[data['RegistrationYear'] > 2000]\n",
    "data = data[data['RegistrationYear'] < 2024]\n",
    "data = data[data['Power'] != 0].reset_index(drop=True)\n",
    "data.describe()"
   ]
  },
  {
   "cell_type": "code",
   "execution_count": 23,
   "metadata": {
    "scrolled": true
   },
   "outputs": [
    {
     "data": {
      "text/plain": [
       "(206829, 11)"
      ]
     },
     "execution_count": 23,
     "metadata": {},
     "output_type": "execute_result"
    }
   ],
   "source": [
    "data.shape"
   ]
  },
  {
   "cell_type": "markdown",
   "metadata": {},
   "source": [
    "### Mengatasi missing value"
   ]
  },
  {
   "cell_type": "code",
   "execution_count": 24,
   "metadata": {},
   "outputs": [
    {
     "data": {
      "text/plain": [
       "Price                 0.000000\n",
       "RegistrationYear      0.000000\n",
       "Power                 0.000000\n",
       "Mileage               0.000000\n",
       "RegistrationMonth     0.000000\n",
       "Brand                 0.000000\n",
       "Gearbox               1.884165\n",
       "Model                 3.432787\n",
       "FuelType              6.308110\n",
       "VehicleType           9.386498\n",
       "NotRepaired          13.156762\n",
       "dtype: float64"
      ]
     },
     "execution_count": 24,
     "metadata": {},
     "output_type": "execute_result"
    }
   ],
   "source": [
    "((data.isna().sum() / len(data)) * 100).sort_values()"
   ]
  },
  {
   "cell_type": "code",
   "execution_count": 25,
   "metadata": {},
   "outputs": [
    {
     "data": {
      "text/plain": [
       "Price                0\n",
       "VehicleType          0\n",
       "RegistrationYear     0\n",
       "Gearbox              0\n",
       "Power                0\n",
       "Model                0\n",
       "Mileage              0\n",
       "RegistrationMonth    0\n",
       "FuelType             0\n",
       "Brand                0\n",
       "NotRepaired          0\n",
       "dtype: int64"
      ]
     },
     "execution_count": 25,
     "metadata": {},
     "output_type": "execute_result"
    }
   ],
   "source": [
    "data = data.fillna('unknowm')\n",
    "data.isna().sum()"
   ]
  },
  {
   "cell_type": "code",
   "execution_count": 26,
   "metadata": {},
   "outputs": [],
   "source": [
    "column_categorycal = ['Gearbox', 'Model', 'FuelType', 'VehicleType', 'NotRepaired']"
   ]
  },
  {
   "cell_type": "code",
   "execution_count": 27,
   "metadata": {
    "scrolled": true
   },
   "outputs": [
    {
     "name": "stdout",
     "output_type": "stream",
     "text": [
      "Column Gearbox: \n",
      "3 category\n",
      "Column Model: \n",
      "246 category\n",
      "Column FuelType: \n",
      "8 category\n",
      "Column VehicleType: \n",
      "9 category\n",
      "Column NotRepaired: \n",
      "3 category\n"
     ]
    }
   ],
   "source": [
    "for column in column_categorycal:\n",
    "    print(f'Column {column}: \\n{len(data[column].value_counts())} category')"
   ]
  },
  {
   "cell_type": "markdown",
   "metadata": {},
   "source": [
    "**Catatan**\n",
    "\n",
    "Ada beberapa catatan dari langkah-langkah yang telah dilakukan:\n",
    "1. Terdapat beberapa kolom yang di drop karena kolom-kolom tersebut tidak diperlukan untuk pelatihan model. kolom-kolom tersebut adalah:\n",
    "    - `DateCrawled`\n",
    "    - `DateCreated`\n",
    "    - `NumberOfPictures`\n",
    "    - `PostalCode`\n",
    "    - `LastSeen`\n",
    "2. Dataset difilter dari beberapa kolom yang bermasalah nilainya. Dataset tersebut diatasi dengan cara berikut:\n",
    "    - Dataset memuat data dengan kolom `RegistrationYear` yang memiliki nilai diatas 2000 dan dibawah 2024.\n",
    "    - Dataset menyimpan data dengan kolom `Power` yang tidak memiliki 0.\n",
    "3. Missing value terdapat di 5 kolom yang berbeda, Kolom tersebut adalah kolom-kolom kategorikal. Jadi kolom-kolom yang memuat missing value diisi dengan 'unknown'."
   ]
  },
  {
   "cell_type": "markdown",
   "metadata": {},
   "source": [
    "## Pelatihan Model"
   ]
  },
  {
   "cell_type": "markdown",
   "metadata": {},
   "source": [
    "Sebelum melatih model, mari bagi dataset nya terlebih dahulu. Data yang digunakan adalah data dengan one hot endcoder agar lebih mudah untuk proses pelatihan dengan berbagai model yang ada."
   ]
  },
  {
   "cell_type": "code",
   "execution_count": 28,
   "metadata": {
    "scrolled": true
   },
   "outputs": [
    {
     "data": {
      "text/html": [
       "<div>\n",
       "<style scoped>\n",
       "    .dataframe tbody tr th:only-of-type {\n",
       "        vertical-align: middle;\n",
       "    }\n",
       "\n",
       "    .dataframe tbody tr th {\n",
       "        vertical-align: top;\n",
       "    }\n",
       "\n",
       "    .dataframe thead th {\n",
       "        text-align: right;\n",
       "    }\n",
       "</style>\n",
       "<table border=\"1\" class=\"dataframe\">\n",
       "  <thead>\n",
       "    <tr style=\"text-align: right;\">\n",
       "      <th></th>\n",
       "      <th>Price</th>\n",
       "      <th>RegistrationYear</th>\n",
       "      <th>Power</th>\n",
       "      <th>Mileage</th>\n",
       "      <th>RegistrationMonth</th>\n",
       "      <th>VehicleType_bus</th>\n",
       "      <th>VehicleType_convertible</th>\n",
       "      <th>VehicleType_coupe</th>\n",
       "      <th>VehicleType_other</th>\n",
       "      <th>VehicleType_sedan</th>\n",
       "      <th>...</th>\n",
       "      <th>Brand_sonstige_autos</th>\n",
       "      <th>Brand_subaru</th>\n",
       "      <th>Brand_suzuki</th>\n",
       "      <th>Brand_toyota</th>\n",
       "      <th>Brand_trabant</th>\n",
       "      <th>Brand_volkswagen</th>\n",
       "      <th>Brand_volvo</th>\n",
       "      <th>NotRepaired_no</th>\n",
       "      <th>NotRepaired_unknowm</th>\n",
       "      <th>NotRepaired_yes</th>\n",
       "    </tr>\n",
       "  </thead>\n",
       "  <tbody>\n",
       "    <tr>\n",
       "      <th>0</th>\n",
       "      <td>18300</td>\n",
       "      <td>2011</td>\n",
       "      <td>190</td>\n",
       "      <td>125000</td>\n",
       "      <td>5</td>\n",
       "      <td>0</td>\n",
       "      <td>0</td>\n",
       "      <td>1</td>\n",
       "      <td>0</td>\n",
       "      <td>0</td>\n",
       "      <td>...</td>\n",
       "      <td>0</td>\n",
       "      <td>0</td>\n",
       "      <td>0</td>\n",
       "      <td>0</td>\n",
       "      <td>0</td>\n",
       "      <td>0</td>\n",
       "      <td>0</td>\n",
       "      <td>0</td>\n",
       "      <td>0</td>\n",
       "      <td>1</td>\n",
       "    </tr>\n",
       "    <tr>\n",
       "      <th>1</th>\n",
       "      <td>9800</td>\n",
       "      <td>2004</td>\n",
       "      <td>163</td>\n",
       "      <td>125000</td>\n",
       "      <td>8</td>\n",
       "      <td>0</td>\n",
       "      <td>0</td>\n",
       "      <td>0</td>\n",
       "      <td>0</td>\n",
       "      <td>0</td>\n",
       "      <td>...</td>\n",
       "      <td>0</td>\n",
       "      <td>0</td>\n",
       "      <td>0</td>\n",
       "      <td>0</td>\n",
       "      <td>0</td>\n",
       "      <td>0</td>\n",
       "      <td>0</td>\n",
       "      <td>0</td>\n",
       "      <td>1</td>\n",
       "      <td>0</td>\n",
       "    </tr>\n",
       "    <tr>\n",
       "      <th>2</th>\n",
       "      <td>1500</td>\n",
       "      <td>2001</td>\n",
       "      <td>75</td>\n",
       "      <td>150000</td>\n",
       "      <td>6</td>\n",
       "      <td>0</td>\n",
       "      <td>0</td>\n",
       "      <td>0</td>\n",
       "      <td>0</td>\n",
       "      <td>0</td>\n",
       "      <td>...</td>\n",
       "      <td>0</td>\n",
       "      <td>0</td>\n",
       "      <td>0</td>\n",
       "      <td>0</td>\n",
       "      <td>0</td>\n",
       "      <td>1</td>\n",
       "      <td>0</td>\n",
       "      <td>1</td>\n",
       "      <td>0</td>\n",
       "      <td>0</td>\n",
       "    </tr>\n",
       "    <tr>\n",
       "      <th>3</th>\n",
       "      <td>3600</td>\n",
       "      <td>2008</td>\n",
       "      <td>69</td>\n",
       "      <td>90000</td>\n",
       "      <td>7</td>\n",
       "      <td>0</td>\n",
       "      <td>0</td>\n",
       "      <td>0</td>\n",
       "      <td>0</td>\n",
       "      <td>0</td>\n",
       "      <td>...</td>\n",
       "      <td>0</td>\n",
       "      <td>0</td>\n",
       "      <td>0</td>\n",
       "      <td>0</td>\n",
       "      <td>0</td>\n",
       "      <td>0</td>\n",
       "      <td>0</td>\n",
       "      <td>1</td>\n",
       "      <td>0</td>\n",
       "      <td>0</td>\n",
       "    </tr>\n",
       "    <tr>\n",
       "      <th>4</th>\n",
       "      <td>2200</td>\n",
       "      <td>2004</td>\n",
       "      <td>109</td>\n",
       "      <td>150000</td>\n",
       "      <td>8</td>\n",
       "      <td>0</td>\n",
       "      <td>1</td>\n",
       "      <td>0</td>\n",
       "      <td>0</td>\n",
       "      <td>0</td>\n",
       "      <td>...</td>\n",
       "      <td>0</td>\n",
       "      <td>0</td>\n",
       "      <td>0</td>\n",
       "      <td>0</td>\n",
       "      <td>0</td>\n",
       "      <td>0</td>\n",
       "      <td>0</td>\n",
       "      <td>1</td>\n",
       "      <td>0</td>\n",
       "      <td>0</td>\n",
       "    </tr>\n",
       "    <tr>\n",
       "      <th>...</th>\n",
       "      <td>...</td>\n",
       "      <td>...</td>\n",
       "      <td>...</td>\n",
       "      <td>...</td>\n",
       "      <td>...</td>\n",
       "      <td>...</td>\n",
       "      <td>...</td>\n",
       "      <td>...</td>\n",
       "      <td>...</td>\n",
       "      <td>...</td>\n",
       "      <td>...</td>\n",
       "      <td>...</td>\n",
       "      <td>...</td>\n",
       "      <td>...</td>\n",
       "      <td>...</td>\n",
       "      <td>...</td>\n",
       "      <td>...</td>\n",
       "      <td>...</td>\n",
       "      <td>...</td>\n",
       "      <td>...</td>\n",
       "      <td>...</td>\n",
       "    </tr>\n",
       "    <tr>\n",
       "      <th>206824</th>\n",
       "      <td>7900</td>\n",
       "      <td>2010</td>\n",
       "      <td>140</td>\n",
       "      <td>150000</td>\n",
       "      <td>7</td>\n",
       "      <td>0</td>\n",
       "      <td>0</td>\n",
       "      <td>0</td>\n",
       "      <td>0</td>\n",
       "      <td>1</td>\n",
       "      <td>...</td>\n",
       "      <td>0</td>\n",
       "      <td>0</td>\n",
       "      <td>0</td>\n",
       "      <td>0</td>\n",
       "      <td>0</td>\n",
       "      <td>1</td>\n",
       "      <td>0</td>\n",
       "      <td>1</td>\n",
       "      <td>0</td>\n",
       "      <td>0</td>\n",
       "    </tr>\n",
       "    <tr>\n",
       "      <th>206825</th>\n",
       "      <td>3999</td>\n",
       "      <td>2005</td>\n",
       "      <td>3</td>\n",
       "      <td>150000</td>\n",
       "      <td>5</td>\n",
       "      <td>0</td>\n",
       "      <td>0</td>\n",
       "      <td>0</td>\n",
       "      <td>0</td>\n",
       "      <td>0</td>\n",
       "      <td>...</td>\n",
       "      <td>0</td>\n",
       "      <td>0</td>\n",
       "      <td>0</td>\n",
       "      <td>0</td>\n",
       "      <td>0</td>\n",
       "      <td>0</td>\n",
       "      <td>0</td>\n",
       "      <td>1</td>\n",
       "      <td>0</td>\n",
       "      <td>0</td>\n",
       "    </tr>\n",
       "    <tr>\n",
       "      <th>206826</th>\n",
       "      <td>5250</td>\n",
       "      <td>2016</td>\n",
       "      <td>150</td>\n",
       "      <td>150000</td>\n",
       "      <td>12</td>\n",
       "      <td>0</td>\n",
       "      <td>0</td>\n",
       "      <td>0</td>\n",
       "      <td>0</td>\n",
       "      <td>0</td>\n",
       "      <td>...</td>\n",
       "      <td>0</td>\n",
       "      <td>0</td>\n",
       "      <td>0</td>\n",
       "      <td>0</td>\n",
       "      <td>0</td>\n",
       "      <td>0</td>\n",
       "      <td>0</td>\n",
       "      <td>1</td>\n",
       "      <td>0</td>\n",
       "      <td>0</td>\n",
       "    </tr>\n",
       "    <tr>\n",
       "      <th>206827</th>\n",
       "      <td>3200</td>\n",
       "      <td>2004</td>\n",
       "      <td>225</td>\n",
       "      <td>150000</td>\n",
       "      <td>5</td>\n",
       "      <td>0</td>\n",
       "      <td>0</td>\n",
       "      <td>0</td>\n",
       "      <td>0</td>\n",
       "      <td>1</td>\n",
       "      <td>...</td>\n",
       "      <td>0</td>\n",
       "      <td>0</td>\n",
       "      <td>0</td>\n",
       "      <td>0</td>\n",
       "      <td>0</td>\n",
       "      <td>0</td>\n",
       "      <td>0</td>\n",
       "      <td>0</td>\n",
       "      <td>0</td>\n",
       "      <td>1</td>\n",
       "    </tr>\n",
       "    <tr>\n",
       "      <th>206828</th>\n",
       "      <td>3400</td>\n",
       "      <td>2002</td>\n",
       "      <td>100</td>\n",
       "      <td>150000</td>\n",
       "      <td>6</td>\n",
       "      <td>0</td>\n",
       "      <td>0</td>\n",
       "      <td>0</td>\n",
       "      <td>0</td>\n",
       "      <td>0</td>\n",
       "      <td>...</td>\n",
       "      <td>0</td>\n",
       "      <td>0</td>\n",
       "      <td>0</td>\n",
       "      <td>0</td>\n",
       "      <td>0</td>\n",
       "      <td>1</td>\n",
       "      <td>0</td>\n",
       "      <td>0</td>\n",
       "      <td>1</td>\n",
       "      <td>0</td>\n",
       "    </tr>\n",
       "  </tbody>\n",
       "</table>\n",
       "<p>206829 rows × 314 columns</p>\n",
       "</div>"
      ],
      "text/plain": [
       "        Price  RegistrationYear  Power  Mileage  RegistrationMonth  \\\n",
       "0       18300              2011    190   125000                  5   \n",
       "1        9800              2004    163   125000                  8   \n",
       "2        1500              2001     75   150000                  6   \n",
       "3        3600              2008     69    90000                  7   \n",
       "4        2200              2004    109   150000                  8   \n",
       "...       ...               ...    ...      ...                ...   \n",
       "206824   7900              2010    140   150000                  7   \n",
       "206825   3999              2005      3   150000                  5   \n",
       "206826   5250              2016    150   150000                 12   \n",
       "206827   3200              2004    225   150000                  5   \n",
       "206828   3400              2002    100   150000                  6   \n",
       "\n",
       "        VehicleType_bus  VehicleType_convertible  VehicleType_coupe  \\\n",
       "0                     0                        0                  1   \n",
       "1                     0                        0                  0   \n",
       "2                     0                        0                  0   \n",
       "3                     0                        0                  0   \n",
       "4                     0                        1                  0   \n",
       "...                 ...                      ...                ...   \n",
       "206824                0                        0                  0   \n",
       "206825                0                        0                  0   \n",
       "206826                0                        0                  0   \n",
       "206827                0                        0                  0   \n",
       "206828                0                        0                  0   \n",
       "\n",
       "        VehicleType_other  VehicleType_sedan  ...  Brand_sonstige_autos  \\\n",
       "0                       0                  0  ...                     0   \n",
       "1                       0                  0  ...                     0   \n",
       "2                       0                  0  ...                     0   \n",
       "3                       0                  0  ...                     0   \n",
       "4                       0                  0  ...                     0   \n",
       "...                   ...                ...  ...                   ...   \n",
       "206824                  0                  1  ...                     0   \n",
       "206825                  0                  0  ...                     0   \n",
       "206826                  0                  0  ...                     0   \n",
       "206827                  0                  1  ...                     0   \n",
       "206828                  0                  0  ...                     0   \n",
       "\n",
       "        Brand_subaru  Brand_suzuki  Brand_toyota  Brand_trabant  \\\n",
       "0                  0             0             0              0   \n",
       "1                  0             0             0              0   \n",
       "2                  0             0             0              0   \n",
       "3                  0             0             0              0   \n",
       "4                  0             0             0              0   \n",
       "...              ...           ...           ...            ...   \n",
       "206824             0             0             0              0   \n",
       "206825             0             0             0              0   \n",
       "206826             0             0             0              0   \n",
       "206827             0             0             0              0   \n",
       "206828             0             0             0              0   \n",
       "\n",
       "        Brand_volkswagen  Brand_volvo  NotRepaired_no  NotRepaired_unknowm  \\\n",
       "0                      0            0               0                    0   \n",
       "1                      0            0               0                    1   \n",
       "2                      1            0               1                    0   \n",
       "3                      0            0               1                    0   \n",
       "4                      0            0               1                    0   \n",
       "...                  ...          ...             ...                  ...   \n",
       "206824                 1            0               1                    0   \n",
       "206825                 0            0               1                    0   \n",
       "206826                 0            0               1                    0   \n",
       "206827                 0            0               0                    0   \n",
       "206828                 1            0               0                    1   \n",
       "\n",
       "        NotRepaired_yes  \n",
       "0                     1  \n",
       "1                     0  \n",
       "2                     0  \n",
       "3                     0  \n",
       "4                     0  \n",
       "...                 ...  \n",
       "206824                0  \n",
       "206825                0  \n",
       "206826                0  \n",
       "206827                1  \n",
       "206828                0  \n",
       "\n",
       "[206829 rows x 314 columns]"
      ]
     },
     "execution_count": 28,
     "metadata": {},
     "output_type": "execute_result"
    }
   ],
   "source": [
    "data_ohe = data\n",
    "data_ohe = pd.get_dummies(data_ohe)\n",
    "data_ohe"
   ]
  },
  {
   "cell_type": "code",
   "execution_count": 29,
   "metadata": {},
   "outputs": [],
   "source": [
    "from sklearn.model_selection import train_test_split"
   ]
  },
  {
   "cell_type": "code",
   "execution_count": 30,
   "metadata": {},
   "outputs": [
    {
     "name": "stdout",
     "output_type": "stream",
     "text": [
      "(148916, 314)\n",
      "(37230, 314)\n",
      "(20683, 314)\n"
     ]
    }
   ],
   "source": [
    "dataohe_train_valid, dataohe_test = train_test_split(data_ohe, test_size=0.1, random_state=1234)\n",
    "dataohe_train, dataohe_valid = train_test_split(dataohe_train_valid, test_size=0.2, random_state=1234)\n",
    "\n",
    "print(dataohe_train.shape)\n",
    "print(dataohe_valid.shape)\n",
    "print(dataohe_test.shape)"
   ]
  },
  {
   "cell_type": "code",
   "execution_count": 31,
   "metadata": {},
   "outputs": [],
   "source": [
    "features_train = dataohe_train.drop(['Price'], axis=1)\n",
    "target_train = dataohe_train['Price']\n",
    "\n",
    "features_valid = dataohe_valid.drop(['Price'], axis=1)\n",
    "target_valid = dataohe_valid['Price']\n",
    "\n",
    "features_test = dataohe_test.drop(['Price'], axis=1)\n",
    "target_test = dataohe_test['Price']"
   ]
  },
  {
   "cell_type": "code",
   "execution_count": 32,
   "metadata": {
    "scrolled": true
   },
   "outputs": [
    {
     "name": "stdout",
     "output_type": "stream",
     "text": [
      "(148916, 313) (148916,)\n",
      "(37230, 313) (37230,)\n",
      "(20683, 313) (20683,)\n"
     ]
    }
   ],
   "source": [
    "print(features_train.shape, target_train.shape)\n",
    "print(features_valid.shape, target_valid.shape)\n",
    "print(features_test.shape, target_test.shape)"
   ]
  },
  {
   "cell_type": "markdown",
   "metadata": {},
   "source": [
    "Langkah selanjutnya adalah melatih model dan membandingkannya dengan gradient boosting. Sebelum itu mari import library yang diperlukan"
   ]
  },
  {
   "cell_type": "code",
   "execution_count": 33,
   "metadata": {},
   "outputs": [],
   "source": [
    "from sklearn.metrics import mean_squared_error\n",
    "\n",
    "#model\n",
    "from sklearn.linear_model import LinearRegression\n",
    "from sklearn.ensemble import RandomForestRegressor\n",
    "from sklearn.tree import DecisionTreeRegressor\n",
    "\n",
    "#gradien boosting\n",
    "import lightgbm as lgb\n",
    "import xgboost as xgb\n",
    "from catboost import CatBoostRegressor\n",
    "\n",
    "import time"
   ]
  },
  {
   "cell_type": "markdown",
   "metadata": {},
   "source": [
    "### Linear Regressor"
   ]
  },
  {
   "cell_type": "code",
   "execution_count": 34,
   "metadata": {},
   "outputs": [
    {
     "name": "stdout",
     "output_type": "stream",
     "text": [
      "CPU times: user 9.34 s, sys: 3.52 s, total: 12.9 s\n",
      "Wall time: 14.8 s\n"
     ]
    },
    {
     "data": {
      "text/plain": [
       "LinearRegression()"
      ]
     },
     "execution_count": 34,
     "metadata": {},
     "output_type": "execute_result"
    }
   ],
   "source": [
    "%%time\n",
    "\n",
    "model1 = LinearRegression()\n",
    "model1.fit(features_train, target_train)\n"
   ]
  },
  {
   "cell_type": "code",
   "execution_count": 35,
   "metadata": {},
   "outputs": [
    {
     "name": "stdout",
     "output_type": "stream",
     "text": [
      "lr-rmse train:  2618.672121298498\n",
      "lr-rmse valid:  2631.121496519814\n",
      "lr-rmse test: 2607.0815860892294\n",
      "CPU times: user 240 ms, sys: 300 ms, total: 540 ms\n",
      "Wall time: 813 ms\n"
     ]
    }
   ],
   "source": [
    "%%time\n",
    "\n",
    "mode1_predict = model1.predict(features_train)\n",
    "print('lr-rmse train: ', mean_squared_error(target_train, mode1_predict)** 0.5)\n",
    "\n",
    "mode1_predict = model1.predict(features_valid)\n",
    "print('lr-rmse valid: ', mean_squared_error(target_valid, mode1_predict)** 0.5)\n",
    "\n",
    "mode1_predict_test = model1.predict(features_test)\n",
    "print('lr-rmse test:', mean_squared_error(target_test, mode1_predict_test)** 0.5)"
   ]
  },
  {
   "cell_type": "markdown",
   "metadata": {},
   "source": [
    "**Catatan**\n",
    "\n",
    "1. Model Linear Regression membutuhkan waktu untuk melatih model yaitu 11.8 s\n",
    "2. Kecepatan prediksi 608 ms\n",
    "3. Kualitas model dengan metrik RMSE, yaitu:\n",
    "    - lr-RMSE_Train: 2618.672121298498\n",
    "    - lr-RMSE_Valid: 2631.121496519814\n",
    "    - lr-RMSE_Test: 2607.0815860892294"
   ]
  },
  {
   "cell_type": "markdown",
   "metadata": {},
   "source": [
    "### Decision Tree Classifier"
   ]
  },
  {
   "cell_type": "code",
   "execution_count": 36,
   "metadata": {},
   "outputs": [
    {
     "name": "stdout",
     "output_type": "stream",
     "text": [
      "depth: 1\n",
      "dtree-rmse train: 4228.614404567332\n",
      "dtree-rmse valid: 4207.9564251241145\n",
      "depth: 2\n",
      "dtree-rmse train: 3672.1822393614834\n",
      "dtree-rmse valid: 3636.1807387943554\n",
      "depth: 4\n",
      "dtree-rmse train: 2989.776892299905\n",
      "dtree-rmse valid: 2974.2977812982826\n",
      "depth: 6\n",
      "dtree-rmse train: 2558.9975415634735\n",
      "dtree-rmse valid: 2576.1186190353997\n",
      "depth: 8\n",
      "dtree-rmse train: 2332.432920668089\n",
      "dtree-rmse valid: 2372.2134232918856\n",
      "depth: 10\n",
      "dtree-rmse train: 2155.410297611313\n",
      "dtree-rmse valid: 2266.5478665931023\n",
      "CPU times: user 10.7 s, sys: 1.04 s, total: 11.8 s\n",
      "Wall time: 15.7 s\n"
     ]
    }
   ],
   "source": [
    "%%time\n",
    "\n",
    "max_depth = [1, 2, 4, 6, 8, 10]\n",
    "\n",
    "for depth in max_depth:\n",
    "    model2 = DecisionTreeRegressor(max_depth=depth)\n",
    "    model2.fit(features_train, target_train)\n",
    "    \n",
    "    pred2_train = model2.predict(features_train)\n",
    "    pred2_valid = model2.predict(features_valid)\n",
    "    \n",
    "    print('depth:', depth)\n",
    "    print('dtree-rmse train:', mean_squared_error(target_train, pred2_train)** 0.5)\n",
    "    print('dtree-rmse valid:', mean_squared_error(target_valid, pred2_valid)** 0.5)\n",
    "    \n"
   ]
  },
  {
   "cell_type": "markdown",
   "metadata": {},
   "source": [
    "Untuk model decisionTree, parameter yang digunakan untuk mencari nilai rmse terbaik adalah max_depth 10. "
   ]
  },
  {
   "cell_type": "code",
   "execution_count": 37,
   "metadata": {},
   "outputs": [
    {
     "name": "stdout",
     "output_type": "stream",
     "text": [
      "CPU times: user 2.95 s, sys: 33.9 ms, total: 2.98 s\n",
      "Wall time: 2.99 s\n"
     ]
    },
    {
     "data": {
      "text/plain": [
       "DecisionTreeRegressor(max_depth=10)"
      ]
     },
     "execution_count": 37,
     "metadata": {},
     "output_type": "execute_result"
    }
   ],
   "source": [
    "%%time\n",
    "model2 = DecisionTreeRegressor(max_depth=10)\n",
    "model2.fit(features_train, target_train)\n"
   ]
  },
  {
   "cell_type": "code",
   "execution_count": 38,
   "metadata": {},
   "outputs": [
    {
     "name": "stdout",
     "output_type": "stream",
     "text": [
      "dtree-rmse train: 2155.410297611313\n",
      "dtree-rmse valid: 2267.3835013054027\n",
      "dtree-rmse test: 2219.118699609312\n",
      "CPU times: user 174 ms, sys: 90 ms, total: 264 ms\n",
      "Wall time: 273 ms\n"
     ]
    }
   ],
   "source": [
    "%%time\n",
    "\n",
    "pred2_train = model2.predict(features_train)\n",
    "pred2_valid = model2.predict(features_valid)\n",
    "pred2_test = model2.predict(features_test)\n",
    "\n",
    "print('dtree-rmse train:', mean_squared_error(target_train, pred2_train)** 0.5)\n",
    "print('dtree-rmse valid:', mean_squared_error(target_valid, pred2_valid)** 0.5)\n",
    "print('dtree-rmse test:', mean_squared_error(target_test, pred2_test)** 0.5)"
   ]
  },
  {
   "cell_type": "markdown",
   "metadata": {},
   "source": [
    "**Catatan**\n",
    "\n",
    "1. Model DecisionTree membutuhkan waktu untuk melatih model yaitu 3.01 s\n",
    "2. Kecepatan prediksi 264 ms\n",
    "3. Kualitas model dengan metrik RMSE, yaitu:\n",
    "    - dtree-rmse train: 2155.410297611313\n",
    "    - dtree-rmse valid: 2265.7402678480676\n",
    "    - dtree-rmse test: 2224.061926180606"
   ]
  },
  {
   "cell_type": "markdown",
   "metadata": {},
   "source": [
    "### Random Forest"
   ]
  },
  {
   "cell_type": "code",
   "execution_count": 39,
   "metadata": {
    "scrolled": true
   },
   "outputs": [
    {
     "name": "stdout",
     "output_type": "stream",
     "text": [
      "depth: 6\n",
      "rf-rmse train: 2515.161040880827\n",
      "rf-rmse valid: 2529.72936654388\n",
      "depth: 8\n",
      "rf-rmse train: 2271.066828419149\n",
      "rf-rmse valid: 2305.4584453973275\n",
      "depth: 10\n",
      "rf-rmse train: 2061.622944988127\n",
      "rf-rmse valid: 2149.7158550140402\n",
      "CPU times: user 8min 6s, sys: 454 ms, total: 8min 6s\n",
      "Wall time: 9min 1s\n"
     ]
    }
   ],
   "source": [
    "%%time\n",
    "\n",
    "max_depth = [6, 8, 10]\n",
    "\n",
    "for depth in max_depth:\n",
    "    model3 = RandomForestRegressor(max_depth=depth, n_estimators=100)\n",
    "    model3.fit(features_train, target_train)\n",
    "    \n",
    "    pred_train = model3.predict(features_train)\n",
    "    pred_valid = model3.predict(features_valid)\n",
    "    \n",
    "    \n",
    "    print('depth:', depth)\n",
    "    print('rf-rmse train:', mean_squared_error(target_train, pred_train)** 0.5)\n",
    "    print('rf-rmse valid:', mean_squared_error(target_valid, pred_valid)** 0.5)"
   ]
  },
  {
   "cell_type": "markdown",
   "metadata": {},
   "source": [
    "Untuk model random forest, parameter yang digunakan untuk mencari nilai rmse terbaik adalah max_depth 10."
   ]
  },
  {
   "cell_type": "code",
   "execution_count": 40,
   "metadata": {},
   "outputs": [
    {
     "name": "stdout",
     "output_type": "stream",
     "text": [
      "CPU times: user 3min 5s, sys: 110 ms, total: 3min 5s\n",
      "Wall time: 3min 5s\n"
     ]
    },
    {
     "data": {
      "text/plain": [
       "RandomForestRegressor(max_depth=10)"
      ]
     },
     "execution_count": 40,
     "metadata": {},
     "output_type": "execute_result"
    }
   ],
   "source": [
    "%%time\n",
    "\n",
    "model3 = RandomForestRegressor(max_depth=10, n_estimators=100)\n",
    "model3.fit(features_train, target_train)\n"
   ]
  },
  {
   "cell_type": "code",
   "execution_count": 41,
   "metadata": {},
   "outputs": [
    {
     "name": "stdout",
     "output_type": "stream",
     "text": [
      "rf-rmse train: 2061.3155235383265\n",
      "rf-rmse valid: 2148.8221638935024\n",
      "rf-rmse test: 2129.4431596190907\n",
      "CPU times: user 3.01 s, sys: 112 ms, total: 3.12 s\n",
      "Wall time: 3.13 s\n"
     ]
    }
   ],
   "source": [
    "%%time\n",
    "\n",
    "pred_train = model3.predict(features_train)\n",
    "pred_valid = model3.predict(features_valid)\n",
    "pred_test = model3.predict(features_test)    \n",
    "    \n",
    "print('rf-rmse train:', mean_squared_error(target_train, pred_train)** 0.5)\n",
    "print('rf-rmse valid:', mean_squared_error(target_valid, pred_valid)** 0.5)\n",
    "print('rf-rmse test:', mean_squared_error(target_test, pred_test)** 0.5)"
   ]
  },
  {
   "cell_type": "markdown",
   "metadata": {},
   "source": [
    "**Catatan**\n",
    "\n",
    "1. Model RandomForest membutuhkan waktu untuk melatih model yaitu 3min 10s\n",
    "2. Kecepatan prediksi 3.16 s\n",
    "3. Kualitas model dengan metrik RMSE, yaitu:\n",
    "    - rf-rmse train: 2063.361772146016\n",
    "    - rf-rmse valid: 2149.2526931961634\n",
    "    - rf-rmse test: 2130.846669252098"
   ]
  },
  {
   "cell_type": "markdown",
   "metadata": {},
   "source": [
    "### Gradient boosting"
   ]
  },
  {
   "cell_type": "markdown",
   "metadata": {},
   "source": [
    "Untuk gradient boosting yang akan dilakukan, paramater-parameter yang digunakan adalah parameter yang di set secara random karna tujuan dari gradient boosting ini adalah untuk membandingkan saja dengan 3 model diatas."
   ]
  },
  {
   "cell_type": "markdown",
   "metadata": {},
   "source": [
    "**1. LightGBM**"
   ]
  },
  {
   "cell_type": "code",
   "execution_count": 42,
   "metadata": {},
   "outputs": [
    {
     "name": "stdout",
     "output_type": "stream",
     "text": [
      "CPU times: user 3.73 s, sys: 108 ms, total: 3.84 s\n",
      "Wall time: 3.96 s\n"
     ]
    },
    {
     "data": {
      "text/plain": [
       "LGBMRegressor(num_leaves=20)"
      ]
     },
     "execution_count": 42,
     "metadata": {},
     "output_type": "execute_result"
    }
   ],
   "source": [
    "%%time\n",
    "\n",
    "lgb_model = lgb.LGBMRegressor(num_leaves=20, n_estimators=100, learning_rate=0.1)\n",
    "lgb_model.fit(features_train, target_train)"
   ]
  },
  {
   "cell_type": "code",
   "execution_count": 43,
   "metadata": {},
   "outputs": [
    {
     "name": "stdout",
     "output_type": "stream",
     "text": [
      "lgb-rmse train: 1941.376383935331\n",
      "lgb-rmse valid: 1954.460372421187\n",
      "lgb-rmse test: 1941.7861233790313\n",
      "CPU times: user 2.25 s, sys: 160 ms, total: 2.41 s\n",
      "Wall time: 2.4 s\n"
     ]
    }
   ],
   "source": [
    "%%time\n",
    "\n",
    "lgb_pred_train = lgb_model.predict(features_train)\n",
    "lgb_pred_valid = lgb_model.predict(features_valid)\n",
    "lgb_pred_test = lgb_model.predict(features_test)\n",
    "\n",
    "print('lgb-rmse train:', mean_squared_error(target_train, lgb_pred_train)** 0.5)\n",
    "print('lgb-rmse valid:', mean_squared_error(target_valid, lgb_pred_valid)** 0.5)\n",
    "print('lgb-rmse test:', mean_squared_error(target_test, lgb_pred_test)** 0.5)"
   ]
  },
  {
   "cell_type": "markdown",
   "metadata": {},
   "source": [
    "**Catatan**\n",
    "\n",
    "1. Gradient boosting menggunakan LigthGBM membutuhkan waktu untuk melatih model yaitu 3.67 s\n",
    "2. Kecepatan prediksi 2.52 s\n",
    "3. Kualitas model dengan metrik RMSE, yaitu:\n",
    "    - lgb-rmse train: 1941.376383935331\n",
    "    - lgb-rmse valid: 1954.460372421187\n",
    "    - lgb-rmse test: 1941.7861233790313\n"
   ]
  },
  {
   "cell_type": "markdown",
   "metadata": {},
   "source": [
    "**2. XGBoost**"
   ]
  },
  {
   "cell_type": "code",
   "execution_count": 44,
   "metadata": {},
   "outputs": [
    {
     "name": "stdout",
     "output_type": "stream",
     "text": [
      "CPU times: user 4min 34s, sys: 482 ms, total: 4min 35s\n",
      "Wall time: 4min 36s\n"
     ]
    },
    {
     "data": {
      "text/plain": [
       "XGBRegressor(base_score=0.5, booster='gbtree', colsample_bylevel=1,\n",
       "             colsample_bynode=1, colsample_bytree=1.0, enable_categorical=False,\n",
       "             gamma=0, gpu_id=-1, importance_type=None,\n",
       "             interaction_constraints='', learning_rate=0.1, max_delta_step=0,\n",
       "             max_depth=6, min_child_weight=1, missing=nan,\n",
       "             monotone_constraints='()', n_estimators=100, n_jobs=4,\n",
       "             num_parallel_tree=1, predictor='auto', random_state=0, reg_alpha=0,\n",
       "             reg_lambda=1, scale_pos_weight=1, subsample=1.0,\n",
       "             tree_method='exact', validate_parameters=1, verbosity=None)"
      ]
     },
     "execution_count": 44,
     "metadata": {},
     "output_type": "execute_result"
    }
   ],
   "source": [
    "%%time\n",
    "\n",
    "params = {\n",
    "    'learning_rate': 0.1, \n",
    "    'n_estimators': 100,\n",
    "    'max_depth' : 6,\n",
    "    'subsample': 1.0,\n",
    "    'colsample_bytree': 1.0\n",
    "}\n",
    "\n",
    "# Membuat model XGBoost Regressor\n",
    "xgb_model = xgb.XGBRegressor(**params)\n",
    "# Melatih model\n",
    "xgb_model.fit(features_train, target_train)\n"
   ]
  },
  {
   "cell_type": "code",
   "execution_count": 45,
   "metadata": {},
   "outputs": [
    {
     "name": "stdout",
     "output_type": "stream",
     "text": [
      "lgb-rmse train 1886.9862018983044\n",
      "CPU times: user 2.31 s, sys: 52 ms, total: 2.36 s\n",
      "Wall time: 2.4 s\n"
     ]
    }
   ],
   "source": [
    "%%time\n",
    "\n",
    "xgb_pred = xgb_model.predict(features_train)\n",
    "\n",
    "\n",
    "rmse = mean_squared_error(target_train, xgb_pred)**0.5\n",
    "print('lgb-rmse train', rmse)"
   ]
  },
  {
   "cell_type": "code",
   "execution_count": 46,
   "metadata": {},
   "outputs": [
    {
     "name": "stdout",
     "output_type": "stream",
     "text": [
      "xgb-rmse train: 1886.9862018983044\n",
      "xgb-rmse valid: 1932.3294470492815\n",
      "xgb-rmse test: 1923.5865268065065\n",
      "CPU times: user 3.22 s, sys: 68 ms, total: 3.28 s\n",
      "Wall time: 3.25 s\n"
     ]
    }
   ],
   "source": [
    "%%time\n",
    "\n",
    "xgb_pred_train = xgb_model.predict(features_train)\n",
    "xgb_pred_valid = xgb_model.predict(features_valid)\n",
    "xgb_pred_test = xgb_model.predict(features_test)\n",
    "\n",
    "print('xgb-rmse train:', mean_squared_error(target_train, xgb_pred_train)** 0.5)\n",
    "print('xgb-rmse valid:', mean_squared_error(target_valid, xgb_pred_valid)** 0.5)\n",
    "print('xgb-rmse test:', mean_squared_error(target_test, xgb_pred_test)** 0.5)"
   ]
  },
  {
   "cell_type": "markdown",
   "metadata": {},
   "source": [
    "**Catatan**\n",
    "\n",
    "1. Gradient boosting menggunakan XGBoost membutuhkan waktu untuk melatih model yaitu 4min 37s\n",
    "2. Kecepatan prediksi 2.35 s\n",
    "3. Kualitas model dengan metrik RMSE, yaitu:\n",
    "    - xgb-rmse train: 1886.9862018983044\n",
    "    - xgb-rmse valid: 1932.3294470492815\n",
    "    - xgb-rmse test: 1923.5865268065065"
   ]
  },
  {
   "cell_type": "markdown",
   "metadata": {},
   "source": [
    "**3. Catboost** "
   ]
  },
  {
   "cell_type": "code",
   "execution_count": 47,
   "metadata": {},
   "outputs": [
    {
     "name": "stdout",
     "output_type": "stream",
     "text": [
      "Learning rate set to 0.422029\n",
      "0:\tlearn: 3644.0765194\ttotal: 93.3ms\tremaining: 13.9s\n",
      "10:\tlearn: 2176.5111291\ttotal: 378ms\tremaining: 4.77s\n",
      "20:\tlearn: 2064.8374447\ttotal: 637ms\tremaining: 3.92s\n",
      "30:\tlearn: 2009.0586282\ttotal: 908ms\tremaining: 3.48s\n",
      "40:\tlearn: 1967.4118976\ttotal: 1.17s\tremaining: 3.11s\n",
      "50:\tlearn: 1937.2639893\ttotal: 1.44s\tremaining: 2.79s\n",
      "60:\tlearn: 1913.0951091\ttotal: 1.71s\tremaining: 2.49s\n",
      "70:\tlearn: 1892.7251077\ttotal: 1.96s\tremaining: 2.18s\n",
      "80:\tlearn: 1871.6988315\ttotal: 2.23s\tremaining: 1.9s\n",
      "90:\tlearn: 1859.2846399\ttotal: 2.5s\tremaining: 1.62s\n",
      "100:\tlearn: 1845.2018197\ttotal: 2.76s\tremaining: 1.34s\n",
      "110:\tlearn: 1832.3279595\ttotal: 3.03s\tremaining: 1.06s\n",
      "120:\tlearn: 1819.7314187\ttotal: 3.29s\tremaining: 789ms\n",
      "130:\tlearn: 1811.8165949\ttotal: 3.54s\tremaining: 514ms\n",
      "140:\tlearn: 1800.5183940\ttotal: 3.82s\tremaining: 244ms\n",
      "149:\tlearn: 1792.8938785\ttotal: 4.05s\tremaining: 0us\n",
      "CPU times: user 5.17 s, sys: 32 ms, total: 5.2 s\n",
      "Wall time: 5.5 s\n"
     ]
    },
    {
     "data": {
      "text/plain": [
       "<catboost.core.CatBoostRegressor at 0x7f8ccdc31550>"
      ]
     },
     "execution_count": 47,
     "metadata": {},
     "output_type": "execute_result"
    }
   ],
   "source": [
    "%%time\n",
    "\n",
    "catboost_model = CatBoostRegressor(loss_function='RMSE', iterations=150, random_seed=12345)\n",
    "catboost_model.fit(features_train, target_train, verbose=10)\n"
   ]
  },
  {
   "cell_type": "code",
   "execution_count": 48,
   "metadata": {},
   "outputs": [
    {
     "name": "stdout",
     "output_type": "stream",
     "text": [
      "Catboost-rmse train: 1792.8938784939044\n",
      "CPU times: user 124 ms, sys: 28 µs, total: 124 ms\n",
      "Wall time: 125 ms\n"
     ]
    }
   ],
   "source": [
    "%%time\n",
    "\n",
    "pred_catboost = catboost_model.predict(features_train)\n",
    "print('Catboost-rmse train:', mean_squared_error(target_train, pred_catboost)** 0.5)"
   ]
  },
  {
   "cell_type": "code",
   "execution_count": 49,
   "metadata": {},
   "outputs": [
    {
     "name": "stdout",
     "output_type": "stream",
     "text": [
      "catboost-rmse train: 1792.8938784939044\n",
      "catboost-rmse valid: 1843.5028953611254\n",
      "catboost-rmse test: 1838.6978900330005\n",
      "CPU times: user 238 ms, sys: 19 µs, total: 238 ms\n",
      "Wall time: 244 ms\n"
     ]
    }
   ],
   "source": [
    "%%time\n",
    "\n",
    "catboost_pred_train = catboost_model.predict(features_train)\n",
    "catboost_pred_valid = catboost_model.predict(features_valid)\n",
    "catboost_pred_test = catboost_model.predict(features_test)\n",
    "\n",
    "print('catboost-rmse train:', mean_squared_error(target_train, catboost_pred_train)** 0.5)\n",
    "print('catboost-rmse valid:', mean_squared_error(target_valid, catboost_pred_valid)** 0.5)\n",
    "print('catboost-rmse test:', mean_squared_error(target_test, catboost_pred_test)** 0.5)"
   ]
  },
  {
   "cell_type": "markdown",
   "metadata": {},
   "source": [
    "**Catatan**\n",
    "\n",
    "1. Gradient boosting menggunakan Catboost membutuhkan waktu untuk melatih model yaitu 5.67 s\n",
    "2. Kecepatan prediksi 132 ms\n",
    "3. Kualitas model dengan metrik RMSE, yaitu:\n",
    "    - catboost-rmse train: 1792.8938784939044\n",
    "    - catboost-rmse valid: 1843.5028953611254\n",
    "    - catboost-rmse test: 1838.6978900330005\n"
   ]
  },
  {
   "cell_type": "markdown",
   "metadata": {},
   "source": [
    "## Analisis Model"
   ]
  },
  {
   "cell_type": "markdown",
   "metadata": {},
   "source": [
    "Mari tampilkan terlebih dahulu hasil dari pelatihan agar mudah untuk dibandingkan.\n",
    "\n",
    "1. Model Linear Regression \n",
    "    - Waktu untuk melatih model yaitu 11.8 s\n",
    "    - Kecepatan prediksi 608 ms\n",
    "    - Kualitas model dengan metrik RMSE, yaitu:\n",
    "        - lr-RMSE_Train: 2618.672121298498\n",
    "        - lr-RMSE_Valid: 2631.121496519814\n",
    "        - lr-RMSE_Test: 2607.0815860892294\n",
    "\n",
    "2. Model DecisionTree \n",
    "    - Waktu untuk melatih model yaitu 3.01 s\n",
    "    - Kecepatan prediksi 264 ms\n",
    "    - Kualitas model dengan metrik RMSE, yaitu:\n",
    "        - dtree-rmse train: 2155.410297611313\n",
    "        - dtree-rmse valid: 2265.7402678480676\n",
    "        - dtree-rmse test: 2224.061926180606\n",
    "\n",
    "3. Model RandomForest \n",
    "    - Waktu untuk melatih model yaitu 3min 10s\n",
    "    - Kecepatan prediksi 3.16 s\n",
    "    - Kualitas model dengan metrik RMSE, yaitu:\n",
    "        - rf-rmse train: 2063.361772146016\n",
    "        - rf-rmse valid: 2149.2526931961634\n",
    "        - rf-rmse test: 2130.846669252098\n",
    "        \n",
    "4. Gradient boosting menggunakan LigthGBM \n",
    "    - Waktu untuk melatih model yaitu 3.67 s\n",
    "    - Kecepatan prediksi 2.52 s\n",
    "    - Kualitas model dengan metrik RMSE, yaitu:\n",
    "        - lgb-rmse train: 1941.376383935331\n",
    "        - lgb-rmse valid: 1954.460372421187\n",
    "        - lgb-rmse test: 1941.7861233790313\n",
    "\n",
    "5. Gradient boosting menggunakan XGBoost \n",
    "    - Waktu untuk melatih model yaitu 4min 37s\n",
    "    - Kecepatan prediksi 2.35 s\n",
    "    - Kualitas model dengan metrik RMSE, yaitu:\n",
    "        - xgb-rmse train: 1886.9862018983044\n",
    "        - xgb-rmse valid: 1932.3294470492815\n",
    "        - xgb-rmse test: 1923.5865268065065\n",
    "\n",
    "6. Gradient boosting menggunakan Catboost \n",
    "    - Waktu untuk melatih model yaitu 5.67 s\n",
    "    - Kecepatan prediksi 132 ms\n",
    "    - Kualitas model dengan metrik RMSE, yaitu:\n",
    "        - catboost-rmse train: 1792.8938784939044\n",
    "        - catboost-rmse valid: 1843.5028953611254\n",
    "        - catboost-rmse test: 1838.6978900330005\n",
    "        \n",
    "Dari hasil diatas, mari analisi hasilnya.\n",
    "1. Model terbaik dengan waktu pelatihan dan kecepatan prediksi tercepat adalah Model DecisionTree dengan waktu 3.01 s untuk melatih model dan 264 ms untuk melakukan prediksi. Untuk nilai RMSE sendiri, model RandomForest memiliki nilai yang lebih baik dibandingkan dengan DecisionTree dan juga LinearRegressor.\n",
    "2. Untuk Gradient Boosting Dengan kecepatan model terbaik adalah LigthGBM namun untuk kecepatan prediksinya Catboost lebih baik dibandingkan gradient bossting lainnya. Untuk nilai RMSE sendiri Catboost lebih baik dibandingkan dengan XGboost dan juga LigthGBM.\n",
    "3. Kesimpulan akhir yang bisa diambil yaitu rekomendasi model yang baik untuk digunakan adalah Model DecisionTree karena moel ini memiliki waktu kecepatan pelatihan model dan juga waktu prediksi lebih cepat. Nilai dari RMSE nya pun tidak jauh dari model yang menampilakn nilai RMSE terbaik. Sedangkan untuk Gradient Boosting, rekomendasi terbaik adalah menggunakan Catboost karena dari waktu prediksi memiliki waktu terbaik walaupun untuk waktu pelatihan model nya lebih "
   ]
  },
  {
   "cell_type": "markdown",
   "metadata": {},
   "source": [
    "# Daftar Periksa"
   ]
  },
  {
   "cell_type": "markdown",
   "metadata": {},
   "source": [
    "Ketik 'x' untuk menandakannya sebagai selesai. Lalu, tekan tombol Shift+Enter"
   ]
  },
  {
   "cell_type": "markdown",
   "metadata": {},
   "source": [
    "- [x]  Jupyter Notebook bisa dibuka\n",
    "- [ ]  Tidak ada kesalahan pada kode\n",
    "- [ ]  Sel-sel dengan kode telah disusun berdasarkan urutan eksekusi\n",
    "- [ ]  Data telah diunduh dan disiapkan- [ ]  Model sudah dilatih\n",
    "- [ ]  Analisis terhadap kecepatan dan kualitas model telah dilakukan"
   ]
  },
  {
   "cell_type": "code",
   "execution_count": null,
   "metadata": {},
   "outputs": [],
   "source": []
  }
 ],
 "metadata": {
  "kernelspec": {
   "display_name": "Python 3 (ipykernel)",
   "language": "python",
   "name": "python3"
  },
  "language_info": {
   "codemirror_mode": {
    "name": "ipython",
    "version": 3
   },
   "file_extension": ".py",
   "mimetype": "text/x-python",
   "name": "python",
   "nbconvert_exporter": "python",
   "pygments_lexer": "ipython3",
   "version": "3.11.4"
  },
  "toc": {
   "base_numbering": 1,
   "nav_menu": {},
   "number_sections": true,
   "sideBar": true,
   "skip_h1_title": true,
   "title_cell": "Table of Contents",
   "title_sidebar": "Contents",
   "toc_cell": false,
   "toc_position": {},
   "toc_section_display": true,
   "toc_window_display": false
  }
 },
 "nbformat": 4,
 "nbformat_minor": 2
}
